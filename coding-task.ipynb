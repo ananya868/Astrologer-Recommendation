{
 "cells": [
  {
   "cell_type": "code",
   "execution_count": 3,
   "id": "355a0ef0",
   "metadata": {},
   "outputs": [
    {
     "name": "stderr",
     "output_type": "stream",
     "text": [
      "c:\\Users\\91790\\Desktop\\Vedaz\\vedenv\\Lib\\site-packages\\tqdm\\auto.py:21: TqdmWarning: IProgress not found. Please update jupyter and ipywidgets. See https://ipywidgets.readthedocs.io/en/stable/user_install.html\n",
      "  from .autonotebook import tqdm as notebook_tqdm\n"
     ]
    }
   ],
   "source": [
    "import os, json \n",
    "from sentence_transformers import SentenceTransformer, util\n",
    "import numpy as np "
   ]
  },
  {
   "cell_type": "markdown",
   "id": "613cb5ec",
   "metadata": {},
   "source": [
    "### Load Data "
   ]
  },
  {
   "cell_type": "code",
   "execution_count": 4,
   "id": "5f1f23f7",
   "metadata": {},
   "outputs": [],
   "source": [
    "try: \n",
    "    with open(\"data/mock_user_data.json\", \"r\") as f:\n",
    "        user_data = json.load(f)\n",
    "except FileNotFoundError:\n",
    "    print(\"File not found. Please ensure 'mock_user_data.json' exists in the 'data' directory.\")\n",
    "    user_data = []"
   ]
  },
  {
   "cell_type": "code",
   "execution_count": 6,
   "id": "cc65c2de",
   "metadata": {},
   "outputs": [
    {
     "data": {
      "text/plain": [
       "{'user_id': 'user_001',\n",
       " 'chat_history': [{'sender': 'user',\n",
       "   'message': \"Hi, I'm not sure where to start.\"},\n",
       "  {'sender': 'bot',\n",
       "   'message': \"Hello! I'm here to help. Please tell me what's on your mind.\"},\n",
       "  {'sender': 'user',\n",
       "   'message': \"Well, everything at work just feels like a dead end. My manager is difficult, and I feel so unmotivated. I'm worried about my salary too. I just need to know if I should start looking for something else.\"}]}"
      ]
     },
     "execution_count": 6,
     "metadata": {},
     "output_type": "execute_result"
    }
   ],
   "source": [
    "user_data[0]"
   ]
  },
  {
   "cell_type": "code",
   "execution_count": 7,
   "id": "26a04d96",
   "metadata": {},
   "outputs": [],
   "source": [
    "try:\n",
    "    with open(\"data/mock_astrologer_data.json\", \"r\") as f:\n",
    "        astrologer_data = json.load(f)\n",
    "except FileNotFoundError:\n",
    "    print(\"File not found. Please ensure 'mock_astrologer_data.json' exists in the 'data' directory.\")\n",
    "    astrologer_data = []"
   ]
  },
  {
   "cell_type": "code",
   "execution_count": 8,
   "id": "bbadc06d",
   "metadata": {},
   "outputs": [
    {
     "data": {
      "text/plain": [
       "{'id': 1,\n",
       " 'name': 'Astro Vani',\n",
       " 'specialties': 'love, relationships, marriage, soulmates, compatibility',\n",
       " 'description': 'With over 15 years of experience, Astro Vani specializes in romantic compatibility, helping you understand your relationships and find your true life partner. She offers detailed readings on love and marriage.'}"
      ]
     },
     "execution_count": 8,
     "metadata": {},
     "output_type": "execute_result"
    }
   ],
   "source": [
    "astrologer_data[0]"
   ]
  },
  {
   "cell_type": "markdown",
   "id": "538eb9b0",
   "metadata": {},
   "source": [
    "### Prepare Data for Semantic Matching\n",
    "\n",
    "We will transform our raw data into a clean format. \n",
    "1. Combine the details of each astrologer into a single descriptive text\n",
    "2. Select a user and combine their chat messages into a single, coherent query "
   ]
  },
  {
   "cell_type": "code",
   "execution_count": 9,
   "id": "b75bd9de",
   "metadata": {},
   "outputs": [],
   "source": [
    "astrologer_profiles = [\n",
    "    f\"Astrologer Name: {a['name']}. Specialties: {a['specialties']}. Description: {a['description']}\" for a in astrologer_data\n",
    "]"
   ]
  },
  {
   "cell_type": "code",
   "execution_count": 10,
   "metadata": {},
   "outputs": [
    {
     "data": {
      "text/plain": [
       "'Astrologer Name: Astro Vani. Specialties: love, relationships, marriage, soulmates, compatibility. Description: With over 15 years of experience, Astro Vani specializes in romantic compatibility, helping you understand your relationships and find your true life partner. She offers detailed readings on love and marriage.'"
      ]
     },
     "execution_count": 10,
     "metadata": {},
     "output_type": "execute_result"
    }
   ],
   "source": [
    "astrologer_profiles[0]"
   ]
  },
  {
   "cell_type": "code",
   "execution_count": 11,
   "id": "f98254c9",
   "metadata": {},
   "outputs": [],
   "source": [
    "# Select a user to recommend astrologers for\n",
    "user_to_recommend_for = user_data[0]\n",
    "user_id = user_to_recommend_for['user_id']\n",
    "\n",
    "# Combine \n",
    "chat_messages = [\n",
    "    message['message'] for message in user_to_recommend_for['chat_history'] if message['sender'] == 'user'\n",
    "]\n",
    "user_query = \" \".join(chat_messages)"
   ]
  },
  {
   "cell_type": "code",
   "execution_count": 12,
   "id": "c8c1ea9d",
   "metadata": {},
   "outputs": [
    {
     "data": {
      "text/plain": [
       "\"Hi, I'm not sure where to start. Well, everything at work just feels like a dead end. My manager is difficult, and I feel so unmotivated. I'm worried about my salary too. I just need to know if I should start looking for something else.\""
      ]
     },
     "execution_count": 12,
     "metadata": {},
     "output_type": "execute_result"
    }
   ],
   "source": [
    "user_query"
   ]
  },
  {
   "cell_type": "markdown",
   "id": "3d5d3681",
   "metadata": {},
   "source": [
    "### Embeddings Generation \n",
    "\n",
    "We will now use a pre-trained Sentence Transformer model to convert our text data into numerical vectors, also called Embeddings. These capture the semantic meaning of the text, allowing us to compare them mathematically. "
   ]
  },
  {
   "cell_type": "code",
   "execution_count": 13,
   "id": "6e6c76fc",
   "metadata": {},
   "outputs": [],
   "source": [
    "model = SentenceTransformer('all-MiniLM-L6-v2')"
   ]
  },
  {
   "cell_type": "code",
   "execution_count": 14,
   "id": "7dcad4e1",
   "metadata": {},
   "outputs": [
    {
     "data": {
      "text/plain": [
       "SentenceTransformer(\n",
       "  (0): Transformer({'max_seq_length': 256, 'do_lower_case': False, 'architecture': 'BertModel'})\n",
       "  (1): Pooling({'word_embedding_dimension': 384, 'pooling_mode_cls_token': False, 'pooling_mode_mean_tokens': True, 'pooling_mode_max_tokens': False, 'pooling_mode_mean_sqrt_len_tokens': False, 'pooling_mode_weightedmean_tokens': False, 'pooling_mode_lasttoken': False, 'include_prompt': True})\n",
       "  (2): Normalize()\n",
       ")"
      ]
     },
     "execution_count": 14,
     "metadata": {},
     "output_type": "execute_result"
    }
   ],
   "source": [
    "model"
   ]
  },
  {
   "cell_type": "code",
   "execution_count": 15,
   "id": "0b42cbd6",
   "metadata": {},
   "outputs": [],
   "source": [
    "# Generate Embeddings for astrologer profiles\n",
    "astrologer_embeddings = model.encode(astrologer_profiles, convert_to_tensor=True)"
   ]
  },
  {
   "cell_type": "code",
   "execution_count": 16,
   "id": "66cc5350",
   "metadata": {},
   "outputs": [],
   "source": [
    "# Generate embeddings for user query\n",
    "user_query_embedding = model.encode(user_query, convert_to_tensor=True)"
   ]
  },
  {
   "cell_type": "code",
   "execution_count": 20,
   "id": "39216255",
   "metadata": {},
   "outputs": [
    {
     "name": "stdout",
     "output_type": "stream",
     "text": [
      "User Query Embedding Shape: torch.Size([384])\n",
      "Astrologer Embeddings Shape: torch.Size([10, 384])\n"
     ]
    }
   ],
   "source": [
    "print(\"User Query Embedding Shape:\", user_query_embedding.shape)\n",
    "print(\"Astrologer Embeddings Shape:\", astrologer_embeddings.shape)"
   ]
  },
  {
   "cell_type": "markdown",
   "id": "9de46f67",
   "metadata": {},
   "source": [
    "### Calculating the Best Matches\n",
    "\n",
    "We will now retrieve the most relevant matches based on the user query. We will use cosine similarity for this purpose. "
   ]
  },
  {
   "cell_type": "code",
   "execution_count": 21,
   "id": "5dd0f220",
   "metadata": {},
   "outputs": [],
   "source": [
    "# Calculate cosine similarities\n",
    "cosine_scores = util.cos_sim(\n",
    "    user_query_embedding, astrologer_embeddings\n",
    ")"
   ]
  },
  {
   "cell_type": "code",
   "execution_count": 22,
   "id": "4661d8c8",
   "metadata": {},
   "outputs": [
    {
     "data": {
      "text/plain": [
       "tensor([[-0.0123,  0.0950,  0.0692,  0.0065,  0.0415,  0.0624,  0.1066,  0.0151,\n",
       "          0.0681,  0.0177]])"
      ]
     },
     "execution_count": 22,
     "metadata": {},
     "output_type": "execute_result"
    }
   ],
   "source": [
    "cosine_scores"
   ]
  },
  {
   "cell_type": "code",
   "execution_count": 23,
   "id": "1d3382d9",
   "metadata": {},
   "outputs": [],
   "source": [
    "scores = cosine_scores[0]"
   ]
  },
  {
   "cell_type": "code",
   "execution_count": 25,
   "id": "2929759c",
   "metadata": {},
   "outputs": [],
   "source": [
    "# Combine the scores with the astrologer profiles\n",
    "results = []\n",
    "for i, score in enumerate(scores):\n",
    "    results.append(\n",
    "        {\n",
    "            \"score\": score.item(),\n",
    "            \"astrologer\": astrologer_data[i]\n",
    "        }\n",
    "    )\n",
    "\n",
    "# Sort the results based on the score\n",
    "results.sort(key=lambda x: x['score'], reverse=True)"
   ]
  },
  {
   "cell_type": "code",
   "execution_count": 28,
   "id": "9b274e85",
   "metadata": {},
   "outputs": [
    {
     "name": "stdout",
     "output_type": "stream",
     "text": [
      "--- Top 5 Ranked Astrologers ---\n",
      "Astrologer: Financial Astrologer Ravi  ||  Score: 0.1066\n",
      "Astrologer: Career Guru Ramesh  ||  Score: 0.0950\n",
      "Astrologer: Jyotish Anjali  ||  Score: 0.0692\n",
      "Astrologer: Acharya Krish  ||  Score: 0.0681\n",
      "Astrologer: Rishi Manish  ||  Score: 0.0624\n"
     ]
    }
   ],
   "source": [
    "print(\"--- Top 5 Ranked Astrologers ---\")\n",
    "for r in results[:5]:\n",
    "    print(f\"Astrologer: {r['astrologer']['name']}  ||  Score: {r['score']:.4f}\")"
   ]
  },
  {
   "cell_type": "markdown",
   "id": "d96bb44b",
   "metadata": {},
   "source": [
    "**We can also Re-rank these results to further improve the quality of recommendation, but it would involve usage of another Re-ranker model which might increase the run-time as well as resource usage for the chatbot.**"
   ]
  },
  {
   "cell_type": "markdown",
   "id": "4824281c",
   "metadata": {},
   "source": [
    "### Let's see the Results"
   ]
  },
  {
   "cell_type": "code",
   "execution_count": 29,
   "id": "fac72930",
   "metadata": {},
   "outputs": [],
   "source": [
    "top_n = 2 # Number of top astrologers to recommend"
   ]
  },
  {
   "cell_type": "code",
   "execution_count": 32,
   "id": "5e1a8896",
   "metadata": {},
   "outputs": [],
   "source": [
    "def recommend_astrologer(\n",
    "    user_profile, model, astrologer_data, astrologer_embedding, top_n\n",
    "):\n",
    "    \"\"\"\n",
    "    Generate recommendations for a user based on their query and astrologer profiles.\n",
    "\n",
    "    Args:\n",
    "        user_profile (dict): User profile containing user_id and chat history.\n",
    "        model (SentenceTransformer): Pre-trained model for generating embeddings.\n",
    "        astrologer_data (list): List of astrologer profiles.\n",
    "        astrologer_embedding (Tensor): Pre-computed embeddings for astrologer profiles.\n",
    "        top_n (int): Number of top recommendations to return.\n",
    "    \n",
    "    Returns:\n",
    "        None: Prints the recommendation report.\n",
    "    \"\"\"\n",
    "    # Process user \n",
    "    user_id = user_profile['user_id']\n",
    "    chat_messages = [\n",
    "        message['message'] for message in user_profile['chat_history'] if message['sender'] == 'user'\n",
    "    ]\n",
    "    user_query = \" \".join(chat_messages)\n",
    "\n",
    "    if not user_query:\n",
    "        print(f\"No user query found for user {user_id}.\")\n",
    "        return \n",
    "    \n",
    "    # Generate embeddings for user query\n",
    "    u_embedding = model.encode(\n",
    "        user_query, convert_to_tensor=True\n",
    "    )\n",
    "\n",
    "    # Calculate cosine similarities\n",
    "    cosine_scores = util.cos_sim(\n",
    "        u_embedding, astrologer_embedding\n",
    "    )[0]\n",
    "\n",
    "    results = []\n",
    "    for i, score in enumerate(cosine_scores):\n",
    "        results.append(\n",
    "            {\n",
    "                \"score\": score.item(),\n",
    "                \"astrologer\": astrologer_data[i]\n",
    "            }\n",
    "        )\n",
    "    # Sort the results based on the score\n",
    "    results.sort(key=lambda x: x['score'], reverse=True)\n",
    "\n",
    "    # Display Recommendations\n",
    "    print(\"=\" * 70)\n",
    "    print(f\"👤 Recommendation Report for User ID: {user_id}\")\n",
    "    print(\"-\" * 40)\n",
    "    print(\"Detected User Query:\")\n",
    "    print(f'   \"{user_query}\"')\n",
    "    \n",
    "    print(\"\\n✨ Top 3 Astrologer Recommendations ✨\")\n",
    "    \n",
    "    top_n = 3\n",
    "    for i, result in enumerate(results[:top_n], start=1):\n",
    "        astrologer = result['astrologer']\n",
    "        score = result['score']\n",
    "        print(f\"   {i}. {astrologer['name']} (Score: {score:.2f})\")\n",
    "        print(f\"      💡 Matched Specialties: {astrologer['specialties']}\")\n",
    "    print(\"=\" * 70 + \"\\n\")"
   ]
  },
  {
   "cell_type": "code",
   "execution_count": 36,
   "id": "1c110f78",
   "metadata": {},
   "outputs": [
    {
     "name": "stdout",
     "output_type": "stream",
     "text": [
      "--- Generating recommendation for a user concerned about their Love life... ---\n",
      "======================================================================\n",
      "👤 Recommendation Report for User ID: user_002\n",
      "----------------------------------------\n",
      "Detected User Query:\n",
      "   \"Hey... so all my friends are getting engaged or married and I'm just... here. I've tried everything but nothing seems to work out. I'm starting to feel really alone and wondering if I'll ever find someone special.\"\n",
      "\n",
      "✨ Top 3 Astrologer Recommendations ✨\n",
      "   1. Astro Vani (Score: 0.27)\n",
      "      💡 Matched Specialties: love, relationships, marriage, soulmates, compatibility\n",
      "   2. Rishi Manish (Score: 0.27)\n",
      "      💡 Matched Specialties: marriage, matchmaking, relationship conflicts\n",
      "   3. Star Seer Priya (Score: 0.19)\n",
      "      💡 Matched Specialties: love, career, personal growth, life path\n",
      "======================================================================\n",
      "\n"
     ]
    }
   ],
   "source": [
    "print(\"--- Generating recommendation for a user concerned about their Love life... ---\")\n",
    "recommend_astrologer(\n",
    "    user_data[1], \n",
    "    model, \n",
    "    astrologer_data,\n",
    "    astrologer_embeddings,\n",
    "    top_n\n",
    ")"
   ]
  },
  {
   "cell_type": "code",
   "execution_count": 37,
   "id": "18daa9fe",
   "metadata": {},
   "outputs": [
    {
     "name": "stdout",
     "output_type": "stream",
     "text": [
      "--- Generating recommendation for a user concerned about life decisions... ---\n",
      "======================================================================\n",
      "👤 Recommendation Report for User ID: user_003\n",
      "----------------------------------------\n",
      "Detected User Query:\n",
      "   \"Hello. My business has hit a wall. Sales have been down for months and I'm pouring all my savings into it. My family is getting worried. I need to know if I should keep pushing or if it's a lost cause.\"\n",
      "\n",
      "✨ Top 3 Astrologer Recommendations ✨\n",
      "   1. Financial Astrologer Ravi (Score: 0.06)\n",
      "      💡 Matched Specialties: stock market, trading, wealth management, finance\n",
      "   2. Healer Divya (Score: 0.02)\n",
      "      💡 Matched Specialties: emotional healing, stress, anxiety, wellness\n",
      "   3. Jyotish Anjali (Score: -0.00)\n",
      "      💡 Matched Specialties: health, wellness, mental peace, spiritual growth\n",
      "======================================================================\n",
      "\n"
     ]
    }
   ],
   "source": [
    "print(\"--- Generating recommendation for a user concerned about life decisions... ---\")\n",
    "recommend_astrologer(\n",
    "    user_data[2], \n",
    "    model, \n",
    "    astrologer_data,\n",
    "    astrologer_embeddings,\n",
    "    top_n\n",
    ")"
   ]
  },
  {
   "cell_type": "code",
   "execution_count": 40,
   "id": "6864d770",
   "metadata": {},
   "outputs": [
    {
     "name": "stdout",
     "output_type": "stream",
     "text": [
      "--- Generating recommendation for a user concerned about mental piece... ---\n",
      "======================================================================\n",
      "👤 Recommendation Report for User ID: user_006\n",
      "----------------------------------------\n",
      "Detected User Query:\n",
      "   \"Hi. I'm not sure I believe in all this, but my friend insisted. I just want to know if there's anything I should be aware of for the next year? Like, any big changes in my job or personal life?\"\n",
      "\n",
      "✨ Top 3 Astrologer Recommendations ✨\n",
      "   1. Jyotish Anjali (Score: 0.17)\n",
      "      💡 Matched Specialties: health, wellness, mental peace, spiritual growth\n",
      "   2. Healer Divya (Score: 0.16)\n",
      "      💡 Matched Specialties: emotional healing, stress, anxiety, wellness\n",
      "   3. Career Guru Ramesh (Score: 0.14)\n",
      "      💡 Matched Specialties: career, finance, business, success, investments\n",
      "======================================================================\n",
      "\n"
     ]
    }
   ],
   "source": [
    "print(\"--- Generating recommendation for a user concerned about mental piece... ---\")\n",
    "recommend_astrologer(\n",
    "    user_data[5], \n",
    "    model, \n",
    "    astrologer_data,\n",
    "    astrologer_embeddings,\n",
    "    top_n\n",
    ")"
   ]
  }
 ],
 "metadata": {
  "kernelspec": {
   "display_name": "vedenv (3.11.5)",
   "language": "python",
   "name": "python3"
  },
  "language_info": {
   "codemirror_mode": {
    "name": "ipython",
    "version": 3
   },
   "file_extension": ".py",
   "mimetype": "text/x-python",
   "name": "python",
   "nbconvert_exporter": "python",
   "pygments_lexer": "ipython3",
   "version": "3.11.5"
  }
 },
 "nbformat": 4,
 "nbformat_minor": 5
}
